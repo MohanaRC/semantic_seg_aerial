{
 "cells": [
  {
   "cell_type": "markdown",
   "id": "ad2279f2",
   "metadata": {},
   "source": [
    "# Create training split"
   ]
  },
  {
   "cell_type": "markdown",
   "id": "cc011d71",
   "metadata": {},
   "source": [
    "This is a helper module to separate the dataset into train, test, validation splits.\n",
    "\n",
    "In my case, I will be splitting the 400 images of the dataset into 70-15-15 split. The folder structure is available in the readme for reference"
   ]
  },
  {
   "cell_type": "code",
   "execution_count": 1,
   "id": "5ff1f55f",
   "metadata": {},
   "outputs": [],
   "source": [
    "import cv2\n",
    "import json\n",
    "import os\n",
    "import numpy as np\n",
    "import matplotlib.pyplot as plt\n",
    "import pandas as pd\n",
    "\n",
    "%matplotlib inline"
   ]
  },
  {
   "cell_type": "markdown",
   "id": "e77fd43a",
   "metadata": {},
   "source": [
    "There are 400 images. 70 15 15 split. 280 train, 60 test, 60 val. Pick randomly and drop"
   ]
  },
  {
   "cell_type": "code",
   "execution_count": 13,
   "id": "2641446b",
   "metadata": {},
   "outputs": [],
   "source": [
    "image_dir=\"..\\\\datasets\\\\aerial_sem\\\\dataset\\\\semantic_drone_dataset\\\\original_images\"\n",
    "annot_dir=\"..\\\\datasets\\\\aerial_sem\\\\dataset\\\\semantic_drone_dataset\\\\label_images_semantic\"\n",
    "train_folder=\"..\\\\datasets\\\\aerial_sem\\\\training_folder\"\n",
    "\n",
    "image_filenames=os.listdir(image_dir)\n",
    "annot_filenames=os.listdir(annot_dir)"
   ]
  },
  {
   "cell_type": "code",
   "execution_count": 3,
   "id": "1c3daf1e",
   "metadata": {
    "scrolled": true
   },
   "outputs": [
    {
     "name": "stdout",
     "output_type": "stream",
     "text": [
      "['000.jpg', '001.jpg', '002.jpg', '003.jpg', '004.jpg', '005.jpg', '006.jpg', '008.jpg', '011.jpg', '013.jpg', '014.jpg', '015.jpg', '016.jpg', '018.jpg', '019.jpg', '021.jpg', '022.jpg', '023.jpg', '026.jpg', '028.jpg', '031.jpg', '035.jpg', '038.jpg', '040.jpg', '041.jpg', '042.jpg', '043.jpg', '044.jpg', '045.jpg', '047.jpg', '049.jpg', '051.jpg', '052.jpg', '053.jpg', '055.jpg', '056.jpg', '057.jpg', '058.jpg', '059.jpg', '060.jpg', '062.jpg', '063.jpg', '065.jpg', '068.jpg', '070.jpg', '071.jpg', '073.jpg', '074.jpg', '075.jpg', '077.jpg', '078.jpg', '079.jpg', '080.jpg', '081.jpg', '083.jpg', '086.jpg', '088.jpg', '089.jpg', '092.jpg', '095.jpg', '098.jpg', '099.jpg', '100.jpg', '101.jpg', '102.jpg', '103.jpg', '104.jpg', '106.jpg', '107.jpg', '109.jpg', '110.jpg', '111.jpg', '112.jpg', '113.jpg', '116.jpg', '117.jpg', '118.jpg', '119.jpg', '120.jpg', '121.jpg', '122.jpg', '123.jpg', '124.jpg', '126.jpg', '128.jpg', '130.jpg', '133.jpg', '134.jpg', '135.jpg', '136.jpg', '137.jpg', '138.jpg', '139.jpg', '140.jpg', '141.jpg', '145.jpg', '146.jpg', '147.jpg', '148.jpg', '149.jpg', '150.jpg', '153.jpg', '154.jpg', '155.jpg', '156.jpg', '157.jpg', '158.jpg', '159.jpg', '160.jpg', '161.jpg', '162.jpg', '163.jpg', '164.jpg', '165.jpg', '166.jpg', '167.jpg', '170.jpg', '171.jpg', '172.jpg', '173.jpg', '174.jpg', '175.jpg', '176.jpg', '177.jpg', '178.jpg', '179.jpg', '180.jpg', '181.jpg', '182.jpg', '185.jpg', '186.jpg', '188.jpg', '190.jpg', '192.jpg', '193.jpg', '194.jpg', '195.jpg', '198.jpg', '199.jpg', '200.jpg', '202.jpg', '204.jpg', '206.jpg', '207.jpg', '208.jpg', '209.jpg', '213.jpg', '214.jpg', '215.jpg', '216.jpg', '217.jpg', '219.jpg', '220.jpg', '221.jpg', '222.jpg', '223.jpg', '225.jpg', '226.jpg', '228.jpg', '229.jpg', '230.jpg', '232.jpg', '233.jpg', '234.jpg', '235.jpg', '236.jpg', '237.jpg', '238.jpg', '239.jpg', '240.jpg', '243.jpg', '244.jpg', '246.jpg', '248.jpg', '250.jpg', '251.jpg', '252.jpg', '255.jpg', '257.jpg', '258.jpg', '259.jpg', '260.jpg', '261.jpg', '262.jpg', '263.jpg', '265.jpg', '266.jpg', '271.jpg', '272.jpg', '273.jpg', '275.jpg', '276.jpg', '277.jpg', '281.jpg', '283.jpg', '287.jpg', '288.jpg', '289.jpg', '290.jpg', '292.jpg', '294.jpg', '295.jpg', '296.jpg', '298.jpg', '299.jpg', '301.jpg', '302.jpg', '303.jpg', '304.jpg', '305.jpg', '306.jpg', '309.jpg', '310.jpg', '311.jpg', '312.jpg', '313.jpg', '314.jpg', '316.jpg', '318.jpg', '320.jpg', '321.jpg', '322.jpg', '323.jpg', '324.jpg', '325.jpg', '326.jpg', '329.jpg', '330.jpg', '331.jpg', '332.jpg', '334.jpg', '335.jpg', '338.jpg', '339.jpg', '341.jpg', '342.jpg', '344.jpg', '345.jpg', '346.jpg', '347.jpg', '348.jpg', '349.jpg', '351.jpg', '355.jpg', '356.jpg', '361.jpg', '363.jpg', '366.jpg', '367.jpg', '372.jpg', '373.jpg', '375.jpg', '376.jpg', '378.jpg', '380.jpg', '381.jpg', '382.jpg', '383.jpg', '385.jpg', '386.jpg', '388.jpg', '389.jpg', '390.jpg', '391.jpg', '393.jpg', '397.jpg', '398.jpg', '403.jpg', '406.jpg', '408.jpg', '409.jpg', '410.jpg', '411.jpg', '412.jpg', '413.jpg', '414.jpg', '416.jpg', '419.jpg', '420.jpg', '421.jpg', '423.jpg', '424.jpg', '425.jpg', '426.jpg', '427.jpg', '428.jpg', '429.jpg', '430.jpg', '431.jpg', '433.jpg', '434.jpg', '435.jpg', '437.jpg', '438.jpg', '439.jpg', '440.jpg', '442.jpg', '443.jpg', '444.jpg', '445.jpg', '446.jpg', '447.jpg', '451.jpg', '452.jpg', '454.jpg', '455.jpg', '457.jpg', '458.jpg', '460.jpg', '461.jpg', '462.jpg', '463.jpg', '464.jpg', '465.jpg', '467.jpg', '470.jpg', '472.jpg', '473.jpg', '474.jpg', '475.jpg', '476.jpg', '478.jpg', '479.jpg', '480.jpg', '484.jpg', '485.jpg', '488.jpg', '489.jpg', '491.jpg', '493.jpg', '494.jpg', '497.jpg', '498.jpg', '499.jpg', '500.jpg', '501.jpg', '502.jpg', '507.jpg', '508.jpg', '509.jpg', '510.jpg', '512.jpg', '513.jpg', '514.jpg', '515.jpg', '517.jpg', '518.jpg', '521.jpg', '524.jpg', '525.jpg', '526.jpg', '529.jpg', '530.jpg', '531.jpg', '532.jpg', '533.jpg', '535.jpg', '536.jpg', '537.jpg', '538.jpg', '540.jpg', '543.jpg', '544.jpg', '545.jpg', '549.jpg', '551.jpg', '554.jpg', '556.jpg', '558.jpg', '559.jpg', '560.jpg', '561.jpg', '563.jpg', '564.jpg', '565.jpg', '566.jpg', '567.jpg', '568.jpg', '569.jpg', '570.jpg', '572.jpg', '573.jpg', '574.jpg', '576.jpg', '579.jpg', '580.jpg', '582.jpg', '583.jpg', '584.jpg', '585.jpg', '586.jpg', '587.jpg', '588.jpg', '590.jpg', '591.jpg', '592.jpg', '593.jpg', '594.jpg', '596.jpg', '598.jpg']\n"
     ]
    }
   ],
   "source": [
    "print (image_filenames)"
   ]
  },
  {
   "cell_type": "code",
   "execution_count": 5,
   "id": "4889caf0",
   "metadata": {},
   "outputs": [],
   "source": [
    "import random\n",
    "train=random.sample(image_filenames, 280)"
   ]
  },
  {
   "cell_type": "code",
   "execution_count": 6,
   "id": "de9be99f",
   "metadata": {
    "scrolled": true
   },
   "outputs": [
    {
     "name": "stdout",
     "output_type": "stream",
     "text": [
      "['101.jpg', '476.jpg', '038.jpg', '338.jpg', '102.jpg', '181.jpg', '292.jpg', '427.jpg', '185.jpg', '491.jpg', '596.jpg', '461.jpg', '375.jpg', '202.jpg', '444.jpg', '190.jpg', '458.jpg', '326.jpg', '062.jpg', '512.jpg', '408.jpg', '219.jpg', '579.jpg', '111.jpg', '180.jpg', '157.jpg', '199.jpg', '572.jpg', '043.jpg', '167.jpg', '239.jpg', '053.jpg', '081.jpg', '086.jpg', '535.jpg', '078.jpg', '334.jpg', '425.jpg', '434.jpg', '545.jpg', '235.jpg', '305.jpg', '446.jpg', '194.jpg', '229.jpg', '330.jpg', '052.jpg', '442.jpg', '391.jpg', '349.jpg', '525.jpg', '130.jpg', '556.jpg', '238.jpg', '329.jpg', '592.jpg', '355.jpg', '478.jpg', '271.jpg', '559.jpg', '509.jpg', '342.jpg', '332.jpg', '177.jpg', '266.jpg', '121.jpg', '057.jpg', '215.jpg', '499.jpg', '586.jpg', '322.jpg', '526.jpg', '228.jpg', '560.jpg', '008.jpg', '193.jpg', '110.jpg', '295.jpg', '019.jpg', '150.jpg', '314.jpg', '301.jpg', '382.jpg', '488.jpg', '529.jpg', '583.jpg', '095.jpg', '591.jpg', '428.jpg', '410.jpg', '517.jpg', '255.jpg', '463.jpg', '195.jpg', '288.jpg', '479.jpg', '022.jpg', '257.jpg', '346.jpg', '002.jpg', '424.jpg', '406.jpg', '437.jpg', '419.jpg', '344.jpg', '206.jpg', '389.jpg', '462.jpg', '366.jpg', '089.jpg', '299.jpg', '538.jpg', '188.jpg', '351.jpg', '092.jpg', '251.jpg', '465.jpg', '537.jpg', '059.jpg', '122.jpg', '098.jpg', '513.jpg', '484.jpg', '273.jpg', '348.jpg', '467.jpg', '431.jpg', '494.jpg', '051.jpg', '580.jpg', '576.jpg', '582.jpg', '536.jpg', '023.jpg', '409.jpg', '367.jpg', '298.jpg', '226.jpg', '216.jpg', '044.jpg', '587.jpg', '237.jpg', '303.jpg', '485.jpg', '166.jpg', '508.jpg', '514.jpg', '518.jpg', '455.jpg', '272.jpg', '413.jpg', '372.jpg', '530.jpg', '104.jpg', '574.jpg', '433.jpg', '561.jpg', '393.jpg', '149.jpg', '154.jpg', '174.jpg', '000.jpg', '447.jpg', '117.jpg', '139.jpg', '159.jpg', '412.jpg', '470.jpg', '544.jpg', '473.jpg', '088.jpg', '390.jpg', '438.jpg', '171.jpg', '281.jpg', '170.jpg', '411.jpg', '594.jpg', '040.jpg', '136.jpg', '232.jpg', '498.jpg', '573.jpg', '031.jpg', '230.jpg', '250.jpg', '005.jpg', '236.jpg', '452.jpg', '161.jpg', '426.jpg', '566.jpg', '531.jpg', '073.jpg', '014.jpg', '457.jpg', '204.jpg', '416.jpg', '363.jpg', '584.jpg', '497.jpg', '339.jpg', '585.jpg', '263.jpg', '070.jpg', '178.jpg', '099.jpg', '311.jpg', '186.jpg', '321.jpg', '248.jpg', '021.jpg', '451.jpg', '225.jpg', '558.jpg', '192.jpg', '361.jpg', '551.jpg', '320.jpg', '075.jpg', '243.jpg', '532.jpg', '160.jpg', '221.jpg', '060.jpg', '296.jpg', '208.jpg', '521.jpg', '385.jpg', '175.jpg', '011.jpg', '472.jpg', '502.jpg', '113.jpg', '079.jpg', '015.jpg', '440.jpg', '006.jpg', '565.jpg', '223.jpg', '287.jpg', '128.jpg', '429.jpg', '244.jpg', '035.jpg', '501.jpg', '275.jpg', '493.jpg', '261.jpg', '198.jpg', '145.jpg', '141.jpg', '001.jpg', '507.jpg', '077.jpg', '570.jpg', '316.jpg', '045.jpg', '058.jpg', '345.jpg', '312.jpg', '222.jpg', '313.jpg', '524.jpg', '309.jpg', '028.jpg', '165.jpg', '013.jpg', '100.jpg', '172.jpg', '430.jpg', '106.jpg', '489.jpg', '080.jpg', '137.jpg', '276.jpg', '182.jpg', '220.jpg', '347.jpg', '302.jpg']\n"
     ]
    }
   ],
   "source": [
    "print (train)"
   ]
  },
  {
   "cell_type": "code",
   "execution_count": 7,
   "id": "c5d5417f",
   "metadata": {
    "scrolled": true
   },
   "outputs": [
    {
     "name": "stdout",
     "output_type": "stream",
     "text": [
      "['003.jpg', '004.jpg', '016.jpg', '018.jpg', '026.jpg', '041.jpg', '042.jpg', '047.jpg', '049.jpg', '055.jpg', '056.jpg', '063.jpg', '065.jpg', '068.jpg', '071.jpg', '074.jpg', '083.jpg', '103.jpg', '107.jpg', '109.jpg', '112.jpg', '116.jpg', '118.jpg', '119.jpg', '120.jpg', '123.jpg', '124.jpg', '126.jpg', '133.jpg', '134.jpg', '135.jpg', '138.jpg', '140.jpg', '146.jpg', '147.jpg', '148.jpg', '153.jpg', '155.jpg', '156.jpg', '158.jpg', '162.jpg', '163.jpg', '164.jpg', '173.jpg', '176.jpg', '179.jpg', '200.jpg', '207.jpg', '209.jpg', '213.jpg', '214.jpg', '217.jpg', '233.jpg', '234.jpg', '240.jpg', '246.jpg', '252.jpg', '258.jpg', '259.jpg', '260.jpg', '262.jpg', '265.jpg', '277.jpg', '283.jpg', '289.jpg', '290.jpg', '294.jpg', '304.jpg', '306.jpg', '310.jpg', '318.jpg', '323.jpg', '324.jpg', '325.jpg', '331.jpg', '335.jpg', '341.jpg', '356.jpg', '373.jpg', '376.jpg', '378.jpg', '380.jpg', '381.jpg', '383.jpg', '386.jpg', '388.jpg', '397.jpg', '398.jpg', '403.jpg', '414.jpg', '420.jpg', '421.jpg', '423.jpg', '435.jpg', '439.jpg', '443.jpg', '445.jpg', '454.jpg', '460.jpg', '464.jpg', '474.jpg', '475.jpg', '480.jpg', '500.jpg', '510.jpg', '515.jpg', '533.jpg', '540.jpg', '543.jpg', '549.jpg', '554.jpg', '563.jpg', '564.jpg', '567.jpg', '568.jpg', '569.jpg', '588.jpg', '590.jpg', '593.jpg', '598.jpg']\n",
      "120\n"
     ]
    }
   ],
   "source": [
    "test_val=[x for x in image_filenames if x not in train]\n",
    "print (test_val)\n",
    "print (len(test_val))"
   ]
  },
  {
   "cell_type": "code",
   "execution_count": 8,
   "id": "ec64ec4a",
   "metadata": {},
   "outputs": [
    {
     "name": "stdout",
     "output_type": "stream",
     "text": [
      "['103.jpg', '568.jpg', '134.jpg', '153.jpg', '383.jpg', '214.jpg', '213.jpg', '217.jpg', '135.jpg', '148.jpg', '056.jpg', '116.jpg', '500.jpg', '112.jpg', '543.jpg', '564.jpg', '003.jpg', '042.jpg', '107.jpg', '233.jpg', '403.jpg', '515.jpg', '163.jpg', '414.jpg', '065.jpg', '549.jpg', '140.jpg', '373.jpg', '047.jpg', '318.jpg', '289.jpg', '123.jpg', '118.jpg', '324.jpg', '593.jpg', '209.jpg', '071.jpg', '063.jpg', '277.jpg', '474.jpg', '569.jpg', '533.jpg', '120.jpg', '156.jpg', '331.jpg', '567.jpg', '207.jpg', '460.jpg', '420.jpg', '041.jpg', '325.jpg', '588.jpg', '421.jpg', '341.jpg', '381.jpg', '074.jpg', '294.jpg', '162.jpg', '240.jpg', '246.jpg']\n",
      "['004.jpg', '016.jpg', '018.jpg', '026.jpg', '049.jpg', '055.jpg', '068.jpg', '083.jpg', '109.jpg', '119.jpg', '124.jpg', '126.jpg', '133.jpg', '138.jpg', '146.jpg', '147.jpg', '155.jpg', '158.jpg', '164.jpg', '173.jpg', '176.jpg', '179.jpg', '200.jpg', '234.jpg', '252.jpg', '258.jpg', '259.jpg', '260.jpg', '262.jpg', '265.jpg', '283.jpg', '290.jpg', '304.jpg', '306.jpg', '310.jpg', '323.jpg', '335.jpg', '356.jpg', '376.jpg', '378.jpg', '380.jpg', '386.jpg', '388.jpg', '397.jpg', '398.jpg', '423.jpg', '435.jpg', '439.jpg', '443.jpg', '445.jpg', '454.jpg', '464.jpg', '475.jpg', '480.jpg', '510.jpg', '540.jpg', '554.jpg', '563.jpg', '590.jpg', '598.jpg']\n"
     ]
    }
   ],
   "source": [
    "test1=random.sample(test_val, 60)\n",
    "print (test1)\n",
    "val=[x for x in test_val if x not in test1]\n",
    "print (val)"
   ]
  },
  {
   "cell_type": "code",
   "execution_count": 17,
   "id": "0c2df035",
   "metadata": {},
   "outputs": [],
   "source": [
    "for i in train:\n",
    "    file_png=i.split(\".jpg\")[0]+\".png\"\n",
    "    ### read image and write it in train folder as png\n",
    "    img=cv2.imread(image_dir+\"\\\\\"+i)\n",
    "    cv2.imwrite(train_folder+\"\\\\train\\\\\"+file_png, img)\n",
    "    ### read annotations\n",
    "    img_annot=cv2.imread(annot_dir+\"\\\\\"+file_png) ## cause here annotations are in png format beforehand\n",
    "    cv2.imwrite(train_folder+\"\\\\train_annot\\\\\"+file_png, img_annot)\n",
    "    "
   ]
  },
  {
   "cell_type": "code",
   "execution_count": 19,
   "id": "240d4972",
   "metadata": {},
   "outputs": [],
   "source": [
    "for i in test1:\n",
    "    file_png=i.split(\".jpg\")[0]+\".png\"\n",
    "    ### read image and write it in train folder as png\n",
    "    img=cv2.imread(image_dir+\"\\\\\"+i)\n",
    "    cv2.imwrite(train_folder+\"\\\\test\\\\\"+file_png, img)\n",
    "    ### read annotations\n",
    "    img_annot=cv2.imread(annot_dir+\"\\\\\"+file_png) ## cause here annotations are in png format beforehand\n",
    "    cv2.imwrite(train_folder+\"\\\\test_annot\\\\\"+file_png, img_annot)\n",
    "    "
   ]
  },
  {
   "cell_type": "code",
   "execution_count": 20,
   "id": "8fbcb946",
   "metadata": {},
   "outputs": [],
   "source": [
    "for i in val:\n",
    "    file_png=i.split(\".jpg\")[0]+\".png\"\n",
    "    ### read image and write it in train folder as png\n",
    "    img=cv2.imread(image_dir+\"\\\\\"+i)\n",
    "    cv2.imwrite(train_folder+\"\\\\val\\\\\"+file_png, img)\n",
    "    ### read annotations\n",
    "    img_annot=cv2.imread(annot_dir+\"\\\\\"+file_png) ## cause here annotations are in png format beforehand\n",
    "    cv2.imwrite(train_folder+\"\\\\val_annot\\\\\"+file_png, img_annot)\n",
    "    "
   ]
  },
  {
   "cell_type": "markdown",
   "id": "bcc3de05",
   "metadata": {},
   "source": [
    "Incase there's no need to change extension of original image. Note saving annotations as jpg makes slight modifications to class labels as its a lossy compression method and comes with a small amount of change in pixel values. This can make huge modications while saving labelled masks. \n",
    "\n",
    "You can use the snippet below if there's no need to change the extension\n",
    "\n",
    "\n",
    "import shutil\n",
    "\n",
    "for i in train:\n",
    "\n",
    "    shutil.copy2(<from_path>, <to_path>)\n",
    "    \n",
    "    shuit.copy2(<from_path_annot>, <to_path_annot>)\n",
    "    \n",
    "Repeat for all"
   ]
  },
  {
   "cell_type": "code",
   "execution_count": null,
   "id": "67a1ccce",
   "metadata": {},
   "outputs": [],
   "source": []
  }
 ],
 "metadata": {
  "kernelspec": {
   "display_name": "cv2",
   "language": "python",
   "name": "cv2"
  },
  "language_info": {
   "codemirror_mode": {
    "name": "ipython",
    "version": 3
   },
   "file_extension": ".py",
   "mimetype": "text/x-python",
   "name": "python",
   "nbconvert_exporter": "python",
   "pygments_lexer": "ipython3",
   "version": "3.9.12"
  }
 },
 "nbformat": 4,
 "nbformat_minor": 5
}
